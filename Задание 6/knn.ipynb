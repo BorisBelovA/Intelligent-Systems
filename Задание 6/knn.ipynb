{
 "cells": [
  {
   "cell_type": "code",
   "execution_count": 1,
   "metadata": {},
   "outputs": [],
   "source": [
    "# Математика\n",
    "import numpy as np\n",
    "# Функция, которая считает расстояния между парами точек из двух массивов, подающихся ей на вход\n",
    "from scipy.spatial.distance import cdist\n",
    "# Визуализация\n",
    "import matplotlib.pyplot as plt"
   ]
  },
  {
   "cell_type": "code",
   "execution_count": 7,
   "metadata": {},
   "outputs": [
    {
     "data": {
      "image/png": "[encoded data removed]",
      "text/plain": [
       "<Figure size 360x360 with 1 Axes>"
      ]
     },
     "metadata": {
      "needs_background": "light"
     },
     "output_type": "display_data"
    }
   ],
   "source": [
    "\n",
    "# Инициализация точек\n",
    "X = np.zeros((8, 2))\n",
    "X[0] = 1, 3\n",
    "X[1] = 3, 3\n",
    "X[2] = 4, 3\n",
    "X[3] = 5, 3\n",
    "X[4] = 1, 2\n",
    "X[5] = 4, 2\n",
    "X[6] = 1, 1\n",
    "X[7] = 2, 1\n",
    "\n",
    "# Инициализация плоскости\n",
    "plt.figure(figsize=(5, 5))\n",
    "plt.plot(X[:, 0], X[:, 1], 'bo');\n",
    "plt.show()"
   ]
  },
  {
   "cell_type": "code",
   "execution_count": 9,
   "metadata": {},
   "outputs": [],
   "source": [
    "\n",
    "# Инициализация центроидов\n",
    "np.random.seed(seed=42)\n",
    "centroids = np.random.normal(loc=0.0, scale=1., size=4)\n",
    "centroids= np.zeros(4)\n",
    "centroids[0]= 2.5\n",
    "centroids[1]= 2.5\n",
    "centroids[2]= 2.0\n",
    "centroids[3]= 1.75\n",
    "centroids = centroids.reshape((2, 2))\n",
    "\n",
    "\n",
    "\n",
    "cent_history = [centroids]"
   ]
  },
  {
   "cell_type": "code",
   "execution_count": 10,
   "metadata": {},
   "outputs": [
    {
     "data": {
      "text/plain": [
       "[array([[2.5 , 2.5 ],\n",
       "        [2.  , 1.75]])]"
      ]
     },
     "execution_count": 10,
     "metadata": {},
     "output_type": "execute_result"
    }
   ],
   "source": [
    "cent_history"
   ]
  },
  {
   "cell_type": "code",
   "execution_count": 11,
   "metadata": {},
   "outputs": [
    {
     "data": {
      "text/plain": [
       "array([[2.5 , 2.5 ],\n",
       "       [2.  , 1.75]])"
      ]
     },
     "execution_count": 11,
     "metadata": {},
     "output_type": "execute_result"
    }
   ],
   "source": [
    "centroids"
   ]
  },
  {
   "cell_type": "code",
   "execution_count": 12,
   "metadata": {},
   "outputs": [
    {
     "name": "stdout",
     "output_type": "stream",
     "text": [
      "[[1.58113883 1.60078106]\n",
      " [0.70710678 1.60078106]\n",
      " [1.58113883 2.35849528]\n",
      " [2.54950976 3.25      ]\n",
      " [1.58113883 1.03077641]\n",
      " [1.58113883 2.01556444]\n",
      " [2.12132034 1.25      ]\n",
      " [1.58113883 0.75      ]]\n",
      "[0 0 0 0 1 0 1 1]\n",
      "[array([[2.5 , 2.5 ],\n",
      "       [2.  , 1.75]]), array([[3.4       , 2.8       ],\n",
      "       [1.33333333, 1.33333333]])]\n",
      "[[2.40831892 1.69967317]\n",
      " [0.4472136  2.3570226 ]\n",
      " [0.63245553 3.14466038]\n",
      " [1.61245155 4.02768199]\n",
      " [2.52982213 0.74535599]\n",
      " [1.         2.74873708]\n",
      " [3.         0.47140452]\n",
      " [2.28035085 0.74535599]]\n",
      "[1 0 0 0 1 0 1 1]\n",
      "[array([[2.5 , 2.5 ],\n",
      "       [2.  , 1.75]]), array([[3.4       , 2.8       ],\n",
      "       [1.33333333, 1.33333333]]), array([[4.  , 2.75],\n",
      "       [1.25, 1.75]])]\n"
     ]
    }
   ],
   "source": [
    "for i in range(2):\n",
    "    # Считаем расстояния от наблюдений до центроид\n",
    "    distances = cdist(X, centroids)\n",
    "    print(distances)\n",
    "    # Смотрим, до какой центроиде каждой точке ближе всего\n",
    "    labels = distances.argmin(axis=1)\n",
    "    print(labels)\n",
    "    # Положим в каждую новую центроиду геометрический центр её точек\n",
    "    centroids = centroids.copy()\n",
    "    centroids[0, :] = np.mean(X[labels == 0, :], axis=0)\n",
    "    centroids[1, :] = np.mean(X[labels == 1, :], axis=0)\n",
    "\n",
    "    cent_history.append(centroids)\n",
    "    print(cent_history)"
   ]
  },
  {
   "cell_type": "code",
   "execution_count": 14,
   "metadata": {},
   "outputs": [
    {
     "data": {
      "image/png": "[encoded data removed]",
      "text/plain": [
       "<Figure size 576x576 with 3 Axes>"
      ]
     },
     "metadata": {
      "needs_background": "light"
     },
     "output_type": "display_data"
    }
   ],
   "source": [
    "plt.figure(figsize=(8, 8))\n",
    "for i in range(3):\n",
    "    distances = cdist(X, cent_history[i])\n",
    "    labels = distances.argmin(axis=1)\n",
    "\n",
    "    plt.subplot(2, 2, i + 1)\n",
    "    plt.plot(X[labels == 0, 0], X[labels == 0, 1], 'bo', label='cluster #1')\n",
    "    plt.plot(X[labels == 1, 0], X[labels == 1, 1], 'co', label='cluster #2')\n",
    "    plt.plot(cent_history[i][:, 0], cent_history[i][:, 1], 'rX')\n",
    "    plt.legend(loc=0)\n",
    "    plt.title('Step {:}'.format(i + 1));"
   ]
  },
  {
   "cell_type": "code",
   "execution_count": null,
   "metadata": {},
   "outputs": [],
   "source": []
  }
 ],
 "metadata": {
  "kernelspec": {
   "display_name": "Python 3",
   "language": "python",
   "name": "python3"
  },
  "language_info": {
   "codemirror_mode": {
    "name": "ipython",
    "version": 3
   },
   "file_extension": ".py",
   "mimetype": "text/x-python",
   "name": "python",
   "nbconvert_exporter": "python",
   "pygments_lexer": "ipython3",
   "version": "3.7.3"
  }
 },
 "nbformat": 4,
 "nbformat_minor": 2
}
